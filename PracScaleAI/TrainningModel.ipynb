{
 "cells": [
  {
   "cell_type": "code",
   "execution_count": 1,
   "id": "a08fb7fe-1f90-47d8-8805-de062b85fc98",
   "metadata": {
    "execution": {
     "iopub.execute_input": "2024-06-22T17:10:07.831778Z",
     "iopub.status.busy": "2024-06-22T17:10:07.830829Z",
     "iopub.status.idle": "2024-06-22T17:10:22.281205Z",
     "shell.execute_reply": "2024-06-22T17:10:22.280142Z",
     "shell.execute_reply.started": "2024-06-22T17:10:07.831747Z"
    },
    "tags": []
   },
   "outputs": [
    {
     "name": "stderr",
     "output_type": "stream",
     "text": [
      "2024-06-22 17:10:09.278078: I tensorflow/core/util/port.cc:110] oneDNN custom operations are on. You may see slightly different numerical results due to floating-point round-off errors from different computation orders. To turn them off, set the environment variable `TF_ENABLE_ONEDNN_OPTS=0`.\n",
      "2024-06-22 17:10:10.679764: I tensorflow/core/platform/cpu_feature_guard.cc:182] This TensorFlow binary is optimized to use available CPU instructions in performance-critical operations.\n",
      "To enable the following instructions: AVX2 AVX512F AVX512_VNNI FMA, in other operations, rebuild TensorFlow with the appropriate compiler flags.\n",
      "2024-06-22 17:10:14.434897: W tensorflow/compiler/tf2tensorrt/utils/py_utils.cc:38] TF-TRT Warning: Could not find TensorRT\n"
     ]
    }
   ],
   "source": [
    "import pandas as pd\n",
    "import numpy as np\n",
    "import tensorflow as tf\n",
    "from keras.models import Sequential\n",
    "from keras.layers import Flatten, Dense, Embedding\n",
    "\n",
    "from keras import preprocessing\n",
    "from keras.preprocessing.text import Tokenizer\n",
    "import numpy as np"
   ]
  },
  {
   "cell_type": "code",
   "execution_count": 52,
   "id": "afc5e868-eaa2-4366-8ec3-9fbf3c09a746",
   "metadata": {
    "execution": {
     "iopub.execute_input": "2024-06-22T17:47:22.245952Z",
     "iopub.status.busy": "2024-06-22T17:47:22.244955Z",
     "iopub.status.idle": "2024-06-22T17:47:25.486220Z",
     "shell.execute_reply": "2024-06-22T17:47:25.485450Z",
     "shell.execute_reply.started": "2024-06-22T17:47:22.245921Z"
    }
   },
   "outputs": [],
   "source": [
    "import pandas as pd\n",
    "import numpy as np\n",
    "import matplotlib.pyplot as plt\n",
    "from sklearn.feature_extraction.text import CountVectorizer\n",
    "from sklearn.utils import resample\n",
    "import re\n",
    "import nltk\n",
    "from nltk.corpus import stopwords\n",
    "from sklearn.model_selection import train_test_split\n",
    "from gensim.models import Word2Vec\n",
    "from gensim.models import KeyedVectors\n",
    "from tensorflow.keras.preprocessing.text import Tokenizer\n",
    "from tensorflow.keras.preprocessing.sequence import pad_sequences\n",
    "from tensorflow.keras.models import Sequential\n",
    "from tensorflow.keras.layers import Embedding, LSTM, Dense, Dropout"
   ]
  },
  {
   "cell_type": "code",
   "execution_count": 33,
   "id": "3d1f2ef5-de05-47f6-ac98-532631ca9157",
   "metadata": {
    "execution": {
     "iopub.execute_input": "2024-06-22T17:35:46.478550Z",
     "iopub.status.busy": "2024-06-22T17:35:46.477500Z",
     "iopub.status.idle": "2024-06-22T17:36:08.979276Z",
     "shell.execute_reply": "2024-06-22T17:36:08.978579Z",
     "shell.execute_reply.started": "2024-06-22T17:35:46.478512Z"
    },
    "tags": []
   },
   "outputs": [
    {
     "data": {
      "text/html": [
       "<div>\n",
       "<style scoped>\n",
       "    .dataframe tbody tr th:only-of-type {\n",
       "        vertical-align: middle;\n",
       "    }\n",
       "\n",
       "    .dataframe tbody tr th {\n",
       "        vertical-align: top;\n",
       "    }\n",
       "\n",
       "    .dataframe thead th {\n",
       "        text-align: right;\n",
       "    }\n",
       "</style>\n",
       "<table border=\"1\" class=\"dataframe\">\n",
       "  <thead>\n",
       "    <tr style=\"text-align: right;\">\n",
       "      <th></th>\n",
       "      <th>text</th>\n",
       "      <th>generated</th>\n",
       "    </tr>\n",
       "  </thead>\n",
       "  <tbody>\n",
       "    <tr>\n",
       "      <th>0</th>\n",
       "      <td>Бои у Сопоцкина и Друскеник закончились отступ...</td>\n",
       "      <td>0.0</td>\n",
       "    </tr>\n",
       "    <tr>\n",
       "      <th>1</th>\n",
       "      <td>Министерство народного просвещения, в виду про...</td>\n",
       "      <td>0.0</td>\n",
       "    </tr>\n",
       "    <tr>\n",
       "      <th>2</th>\n",
       "      <td>Штабс-капитан П. Н. Нестеров на днях, увидев в...</td>\n",
       "      <td>0.0</td>\n",
       "    </tr>\n",
       "    <tr>\n",
       "      <th>3</th>\n",
       "      <td>Фотограф-корреспондент Daily Mirror рассказыва...</td>\n",
       "      <td>0.0</td>\n",
       "    </tr>\n",
       "    <tr>\n",
       "      <th>4</th>\n",
       "      <td>Лица, приехавшие в Варшаву из Люблина, передаю...</td>\n",
       "      <td>0.0</td>\n",
       "    </tr>\n",
       "    <tr>\n",
       "      <th>...</th>\n",
       "      <td>...</td>\n",
       "      <td>...</td>\n",
       "    </tr>\n",
       "    <tr>\n",
       "      <th>888281</th>\n",
       "      <td>Tie Face on Mars is really just a big misunder...</td>\n",
       "      <td>0.0</td>\n",
       "    </tr>\n",
       "    <tr>\n",
       "      <th>888282</th>\n",
       "      <td>The whole purpose of democracy is to create a ...</td>\n",
       "      <td>0.0</td>\n",
       "    </tr>\n",
       "    <tr>\n",
       "      <th>888283</th>\n",
       "      <td>I firmly believe that governments worldwide sh...</td>\n",
       "      <td>1.0</td>\n",
       "    </tr>\n",
       "    <tr>\n",
       "      <th>888284</th>\n",
       "      <td>I DFN't agree with this decision because a LFT...</td>\n",
       "      <td>0.0</td>\n",
       "    </tr>\n",
       "    <tr>\n",
       "      <th>888285</th>\n",
       "      <td>Richard Non, Jimmy Carter, and Bob Dole and ot...</td>\n",
       "      <td>0.0</td>\n",
       "    </tr>\n",
       "  </tbody>\n",
       "</table>\n",
       "<p>888286 rows × 2 columns</p>\n",
       "</div>"
      ],
      "text/plain": [
       "                                                     text  generated\n",
       "0       Бои у Сопоцкина и Друскеник закончились отступ...        0.0\n",
       "1       Министерство народного просвещения, в виду про...        0.0\n",
       "2       Штабс-капитан П. Н. Нестеров на днях, увидев в...        0.0\n",
       "3       Фотограф-корреспондент Daily Mirror рассказыва...        0.0\n",
       "4       Лица, приехавшие в Варшаву из Люблина, передаю...        0.0\n",
       "...                                                   ...        ...\n",
       "888281  Tie Face on Mars is really just a big misunder...        0.0\n",
       "888282  The whole purpose of democracy is to create a ...        0.0\n",
       "888283  I firmly believe that governments worldwide sh...        1.0\n",
       "888284  I DFN't agree with this decision because a LFT...        0.0\n",
       "888285  Richard Non, Jimmy Carter, and Bob Dole and ot...        0.0\n",
       "\n",
       "[888286 rows x 2 columns]"
      ]
     },
     "execution_count": 33,
     "metadata": {},
     "output_type": "execute_result"
    }
   ],
   "source": [
    "df = pd.read_csv('AI_vs_Human.csv')\n",
    "df"
   ]
  },
  {
   "cell_type": "code",
   "execution_count": 41,
   "id": "05717ec0-ee53-4bd3-8090-0a4b7018a9f1",
   "metadata": {
    "execution": {
     "iopub.execute_input": "2024-06-22T17:42:05.394547Z",
     "iopub.status.busy": "2024-06-22T17:42:05.393293Z",
     "iopub.status.idle": "2024-06-22T17:42:05.414955Z",
     "shell.execute_reply": "2024-06-22T17:42:05.414240Z",
     "shell.execute_reply.started": "2024-06-22T17:42:05.394509Z"
    },
    "tags": []
   },
   "outputs": [
    {
     "data": {
      "text/html": [
       "<div>\n",
       "<style scoped>\n",
       "    .dataframe tbody tr th:only-of-type {\n",
       "        vertical-align: middle;\n",
       "    }\n",
       "\n",
       "    .dataframe tbody tr th {\n",
       "        vertical-align: top;\n",
       "    }\n",
       "\n",
       "    .dataframe thead th {\n",
       "        text-align: right;\n",
       "    }\n",
       "</style>\n",
       "<table border=\"1\" class=\"dataframe\">\n",
       "  <thead>\n",
       "    <tr style=\"text-align: right;\">\n",
       "      <th></th>\n",
       "      <th>text</th>\n",
       "      <th>generated</th>\n",
       "    </tr>\n",
       "  </thead>\n",
       "  <tbody>\n",
       "    <tr>\n",
       "      <th>0</th>\n",
       "      <td>Бои у Сопоцкина и Друскеник закончились отступ...</td>\n",
       "      <td>0.0</td>\n",
       "    </tr>\n",
       "    <tr>\n",
       "      <th>1</th>\n",
       "      <td>Министерство народного просвещения, в виду про...</td>\n",
       "      <td>0.0</td>\n",
       "    </tr>\n",
       "    <tr>\n",
       "      <th>2</th>\n",
       "      <td>Штабс-капитан П. Н. Нестеров на днях, увидев в...</td>\n",
       "      <td>0.0</td>\n",
       "    </tr>\n",
       "    <tr>\n",
       "      <th>3</th>\n",
       "      <td>Фотограф-корреспондент Daily Mirror рассказыва...</td>\n",
       "      <td>0.0</td>\n",
       "    </tr>\n",
       "    <tr>\n",
       "      <th>4</th>\n",
       "      <td>Лица, приехавшие в Варшаву из Люблина, передаю...</td>\n",
       "      <td>0.0</td>\n",
       "    </tr>\n",
       "  </tbody>\n",
       "</table>\n",
       "</div>"
      ],
      "text/plain": [
       "                                                text  generated\n",
       "0  Бои у Сопоцкина и Друскеник закончились отступ...        0.0\n",
       "1  Министерство народного просвещения, в виду про...        0.0\n",
       "2  Штабс-капитан П. Н. Нестеров на днях, увидев в...        0.0\n",
       "3  Фотограф-корреспондент Daily Mirror рассказыва...        0.0\n",
       "4  Лица, приехавшие в Варшаву из Люблина, передаю...        0.0"
      ]
     },
     "execution_count": 41,
     "metadata": {},
     "output_type": "execute_result"
    }
   ],
   "source": [
    "df.head()"
   ]
  },
  {
   "cell_type": "code",
   "execution_count": 47,
   "id": "8c9c2037-2f40-48c1-9dda-4bba0cab07f0",
   "metadata": {
    "execution": {
     "iopub.execute_input": "2024-06-22T17:44:30.554910Z",
     "iopub.status.busy": "2024-06-22T17:44:30.554028Z",
     "iopub.status.idle": "2024-06-22T17:44:31.667118Z",
     "shell.execute_reply": "2024-06-22T17:44:31.666430Z",
     "shell.execute_reply.started": "2024-06-22T17:44:30.554877Z"
    },
    "tags": []
   },
   "outputs": [
    {
     "name": "stdout",
     "output_type": "stream",
     "text": [
      "<class 'pandas.core.frame.DataFrame'>\n",
      "Int64Index: 887219 entries, 0 to 888285\n",
      "Data columns (total 2 columns):\n",
      " #   Column     Non-Null Count   Dtype  \n",
      "---  ------     --------------   -----  \n",
      " 0   text       887219 non-null  object \n",
      " 1   generated  887219 non-null  float64\n",
      "dtypes: float64(1), object(1)\n",
      "memory usage: 20.3+ MB\n",
      "None\n",
      "           generated\n",
      "count  887219.000000\n",
      "mean        0.221312\n",
      "std         0.415130\n",
      "min         0.000000\n",
      "25%         0.000000\n",
      "50%         0.000000\n",
      "75%         0.000000\n",
      "max         1.000000\n",
      "ООН                                                                                                                                                                                                                                                                                                                                                                                                                                                                                                                                                                                                                                                                                                                                                                                                                                                                                                                                                                                                                                                                                                                                                                                                                                                                                                                                                                                                                                                                                                                                                                                                                                                                                                                                                                                                                                                                                                                                                                                                                                                                                                                                                                                                                                                                                                                                                                                                                                                                                                                                                                                                                                                                                                                                                                                                                                                                                                                                                                                                                                                                                                                                                                                                                                                                                                                                                                                                                                                                                                                                                                                                                                                                                                                                                                                                                                                                                                                                                                                                                                                                                                                                                                                                                                                                                                                                                                                                                                                                                                                                                                                                         2\n",
      "Бои у Сопоцкина и Друскеник закончились отступлением германцев. Неприятель, приблизившись с севера к Осовцу начал артиллерийскую борьбу с крепостью. В артиллерийском бою принимают участие тяжелые калибры. С раннего утра 14 сентября огонь достиг значительного напряжения. Попытка германской пехоты пробиться ближе к крепости отражена. В Галиции мы заняли Дембицу. Большая колонна, отступавшая по шоссе от Перемышля к Саноку, обстреливалась с высот нашей батареей и бежала, бросив парки, обоз и автомобили. Вылазки гарнизона Перемышля остаются безуспешными. При продолжающемся отступлении австрийцев обнаруживается полное перемешивание их частей, захватываются новые партии пленных, орудия и прочая материальная часть. На перевале Ужок мы разбили неприятельский отряд, взяли его артиллерию и много пленных и, продолжая преследовать, вступили в пределы Венгрии. \\n«Русский инвалид», 16 сентября 1914 года.                                                                                                                                                                                                                                                                                                                                                                                                                                                                                                                                                                                                                                                                                                                                                                                                                                                                                                                                                                                                                                                                                                                                                                                                                                                                                                                                                                                                                                                                                                                                                                                                                                                                                                                                                                                                                                                                                                                                                                                                                                                                                                                                                                                                                                                                                                                                                                                                                                                                                                                                                                                                                                                                                                                                                                                                                                                                                                                                                                                                                                                                                                                                                                                                                                                                                                                                                                                                                                                                                                                                                                                                                                                                      1\n",
      "Dear senator,\\n\\nI think the Electoral College should be brought down and let the popular vote decide who the President of the United States will be.\\n\\nFirst, I believe the popular vote should be kept, and the Electoral College brought down. I think this because what if some people don't agree with the opinion of others. For example, let's say two people are running to be President of the United States. People vote and everything but then It's up to the 538 electors. Then the 538 electors choose who they want as their president, 270 electoral votes is required to elect the President, as weeks go by, the new President is one of the two people that ran to be President was elected. Some people are happy, and some people are mad because they put their vote in, and they voted on the other person, but that other person won, and now they are angry.                                                                                                                                                                                                                                                                                                                                                                                                                                                                                                                                                                                                                                                                                                                                                                                                                                                                                                                                                                                                                                                                                                                                                                                                                                                                                                                                                                                                                                                                                                                                                                                                                                                                                                                                                                                                                                                                                                                                                                                                                                                                                                                                                                                                                                                                                                                                                                                                                                                                                                                                                                                                                                                                                                                                                                                                                                                                                                                                                                                                                                                                                                                                                                                                                                                                                                                                                                                                                                                                                                                                                                                                                                                                                                                      1\n",
      "Pranks have been a part of human culture for centuries. From the classic \"squishy ball prank\" to the \"fake spider prank,\" pranks have become a popular form of entertainment on social media platforms such as YouTube. In this essay, I will research different pranks used by YouTube creators, brainstorm new, creative ways of using traditional pranks, purchase prank materials from Amazon and 5 Below, test out creative pranks on family members, design a prank that utilizes a large box with a hand-sized hole, experiment with pranks in public, placing fake items on the ground or using robotic tools to surprise people, and finally, analyze the ethical implications of pranking.\\n\\nWhen it comes to pranking on YouTube, there are countless examples of popular pranks that have gone viral. One of the most famous pranks is the \"water balloon prank,\" where a group of pranksters fills up a water balloon and throw it at someone. Another popular prank is the \"fake spider prank,\" where a person pretends to have a spider crawling on their hand. These pranks are simple to execute and can be easily replicated by anyone with a camera and some basic materials.\\n\\nHowever, in order to stand out in the crowded world of YouTube pranking, creators need to come up with new, creative ways of using traditional pranks. For example, instead of throwing a water balloon at someone, a prankster could use a giant water balloon to prank their friends by making them believe they are being attacked by a giant sea creature. Similarly, instead of pretending to have a spider crawling on their hand, a prankster could use a fake spider to prank their friends by making them believe they are being bitten by a venomous creature.\\n\\nTo execute these creative pranks, I purchased prank materials from Amazon and 5 Below. From Amazon, I purchased a giant water balloon, a fake spider, and some fake blood. From 5 Below, I purchased some fake snakes and a fake rat. With these materials in hand, I was ready to test out my pranks on my family members.\\n\\nOne of the pranks I tried was the giant water balloon prank. I filled up the water balloon with water and placed it on the ground                                                                                                                                                                                                                                                                                                                                                                                                                                                                                                                                                                                                                                                                                                                                                                                                                                                                                                                                                                                                                                                                                                                                                                                                                                                                                                                                                                                                                                                                                                                                                                                                                                                                                                                                                                                                                                                                                                                                                                                                                                                                                                                                                                                                                                                                                                                                                           1\n",
      "Summer is like a brainwash. Students seem to forget everything they learned in school that year over the summer. To try and combat this, many teachers assign summer projects, so the students don't fall behind on any of their learning. Students are often upset by this, wanting their summer to be fun and stress-free. Teacher designed projects are often long and tedious making them boring to do. The summer projects should be student-designed. Having the projects be student-designed allows for a greater range of creativity, more control over how the project is completed, and creates a better mindset for disgruntled students.\\n\\nAllowing for summer projects to be student designed makes for a greater range of creativity. A greater range of creativity would excite students to finish their projects faster if they were given a wider range of mediums to work with instead of just paper and pencil, or a computer program. Even when it's not over the summer, being assigned a project where I can make a poster or create a diorama instead of writing a paper is already much more exciting to me because I'm given a bunch of different mediums to work with. I personally prefer creating something big and artsy to sitting down and churning out a paper within a set time frame. The process of creating something huge feel much more satisfying because I can visibly see when I am done. Completing a paper still has a feeling of satisfaction, but the overall feeling is dulled because no creativity was released. A greater range of creativity also allows for a much more interesting presentation. A differentiation of styles in projects makes the overall project much more interesting and increases the chances of students paying attention for longer during those presentations.\\n\\nCompletion of the project is thought to be most important. Allowing students to control how the project is completed is much more student oriented. A student oriented project should be more fun and less stressful as to not add anything more on top of an already heavy workload. Letting students decide how the project is presented and what the rubric should entail makes the students not only happier, but less stressed as a result. If the students can control what they want to do in the project or how the final product should be, it could help immensely with the overall students happiness and create a stronger student community.\\n\\nThe mindset for summer is just fun, fun, fun. Adding a summer project dampens that mindset. It becomes a burden for students to deal with. No one wants to do schoolwork over the summer, summer is the time for fun! Allowing students to create a student designed project would create an overall better mindset towards how summer project are viewed. I know that I don't want to do school work over the summer. Giant math packets, books to read, papers to write, it's all so tedious and I always end up pushing it off til August, where I'm then rushing to get it all done in time for the start of school. If I were to be given a project that I could control, it would already seem so much better because I would be in full control over what I did for the project or how I approached a problem I encountered with it. It's important to keep a healthy mindset in school, so you don't burn yourself out. Summer is seen as a time to distress and have fun and creating a better mindset towards student project by making them student designed is extremely crucial to that.\\n\\nWhen I think of school projects, I think of teachers handing them out at the end of a quarter or towards the end of school to be completed over the summer. Projects are a way to either boost or bring down your grade, depending on how you do. Because of that effect on grades, important projects tend to stress students out. When students are given more control over a project it immediately takes stress off the student because they automatically control how their project is made and presented. Teacher designed projects are made to showcase how well teachers teach their students. If more students get a higher grade on a project, the credibility of that teacher goes up. They are viewed as a better teacher overall. While teacher designed projects might have more academic results, having projects be student-designed creates a wider range of creativity, control over how the project is executed, and makes a more positive mindset for students.    1\n",
      "                                                                                                                                                                                                                                                                                                                                                                                                                                                                                                                                                                                                                                                                                                                                                                                                                                                                                                                                                                                                                                                                                                                                                                                                                                                                                                                                                                                                                                                                                                                                                                                                                                                                                                                                                                                                                                                                                                                                                                                                                                                                                                                                                                                                                                                                                                                                                                                                                                                                                                                                                                                                                                                                                                                                                                                                                                                                                                                                                                                                                                                                                                                                                                                                                                                                                                                                                                                                                                                                                                                                                                                                                                                                                                                                                                                                                                                                                                                                                                                                                                                                                                                                                                                                                                                                                                                                                                                                                                                                                                                                                                                                           ..\n",
      "Специалиста по эксплуатации информационных систем из Тольятти заподозрили в краже 16 миллионов рублей из банка. Об этом 28 августа сообщает агентство ИТАР-ТАСС со ссылкой на начальника отдела по борьбе с экономическими преступлениями УВД по Автозаводскому району города Ильдара Чагаева.\\r 37-летний подозреваемый пять лет работал в одном из городских банков. РИА Новости передает, что, по версии следствия, 24 августа он задержался вечером на работе и через компьютерную сеть перевел 16 миллионов на счет в другом банке. На следующее утро компьютерщик забрал деньги со счета наличными и скрылся.\\r Издание \"РегионСамара.ru\" без ссылок на какие-либо источники называет имя подозреваемого - Андрей Литейкин и название пострадавшего банка - \"Потенциал\". \\r Возбуждено уголовное дело по 159 статье УК РФ (\"Мошенничество\"). С учетом особо крупного размера похищенной суммы подозреваемому грозит от пяти до десяти лет лишения свободы и штраф до одного миллиона рублей.                                                                                                                                                                                                                                                                                                                                                                                                                                                                                                                                                                                                                                                                                                                                                                                                                                                                                                                                                                                                                                                                                                                                                                                                                                                                                                                                                                                                                                                                                                                                                                                                                                                                                                                                                                                                                                                                                                                                                                                                                                                                                                                                                                                                                                                                                                                                                                                                                                                                                                                                                                                                                                                                                                                                                                                                                                                                                                                                                                                                                                                                                                                                                                                                                                                                                                                                                                                                                                                                                                                                                                                                          1\n",
      "Главный редактор газеты \"РБК daily\" и журнала \"РБК\" Петр Власов подал в отставку. Как рассказал сам Власов в интервью интернет-изданию \"Слон.Ру\", свое заявление об уходе он написал 26 августа.\\r По словам бывшего главного редактора, свое решение он принял из-за невозможности создать \"конкурентоспособный продукт, способный занимать достойную нишу на рынке\". Он отметил, что это произошло \"по причинам как финансового, так и организационного характера\".\\r Власов рассказал, что \"последней каплей\" стала идея реорганизации редакции, когда ему предложили пост шеф-редактора журнала и газеты. \"Это означало бы, что я еще меньше смог бы влиять на то, как выглядит газета\", - отметил он.\\r Бывший главный редактор добавил, что после того, как он подал в отставку, ему предложили остаться главным редактором с усеченными полномочиями. По словам Власова, он отказался.\\r По данным портала Infox, который ссылается на \"несколько источников на медиарынке\", Власова на посту главреда изданий сменит Петр Кирьян из издательского дома \"Ньюс-медиа\".                                                                                                                                                                                                                                                                                                                                                                                                                                                                                                                                                                                                                                                                                                                                                                                                                                                                                                                                                                                                                                                                                                                                                                                                                                                                                                                                                                                                                                                                                                                                                                                                                                                                                                                                                                                                                                                                                                                                                                                                                                                                                                                                                                                                                                                                                                                                                                                                                                                                                                                                                                                                                                                                                                                                                                                                                                                                                                                                                                                                                                                                                                                                                                                                                                                                                                                                                                                                                                                                                                                                1\n",
      "На самом крупном спутнике Сатурна Титане обнаружен туман. Краткое изложение работы астрономов, сделавших это открытие, приведено на портале Universe Today. Препринт статьи исследователей в формате pdf доступен по этой ссылке. Авторы предоставили свободный доступ к работе для того, чтобы желающие могли прислать им свои замечания. Титан является единственным объектом Солнечной системы, на котором обнаружен погодный цикл, похожий на земной. Авторы нового исследования анализировали данные о Титане, собранные аппаратом \"Кассини\" (Cassini). Используя эту информацию, ученые смоделировали параметры атмосферы Титана на различной высоте. По итогам проделанной работы ученые заключили, что южный полюс небесного тела покрыт туманом. На Земле туман образуется по двум причинам: когда в воздухе много влаги и когда температура неожиданно опускается на значительную величину. На Титане такое падение маловероятно, так как атмосфера спутника Сатурна отличается чрезвычайной плотностью. Чтобы охладить ее, требуется значительное время. Кроме того, температура атмосферы Титана очень низка (около минус 179 градусов Цельсия у поверхности), поэтому для дополнительного охлаждения нет \"пространства для маневра\". По мнению авторов, туман на Титане образуется при испарении метана. Этот углеводород в жидком виде наполняет многочисленные озера на поверхности спутника. Озера с испаряющимся метаном холоднее своего окружения, а метан \"увлажняет\" атмосферу в достаточной мере, чтобы образовался туман. По мере того, как метан будет испаряться, образующиеся метановые облака будут перемещаться к северному полюсу Титана. В этой части спутника скоро должно начаться лето. Летнее солнцестояние случится в 2016 году. Титан является объектом усиленного изучения астрономов. Атмосфера шестой луны Сатурна по своему составу близка к атмосфере молодой Земли. Недавно ученые выяснили, как в атмосфере Титана появляется метан, и в чем причина мощных тропических штормов. Титан попал в шорт-лист объектов Солнечной системы, к которым отправится ближайшая межпланетная миссия. Однако на финишной прямой его обошел спутник Юпитера Европа. Подробнее о гонке двух лун можно прочитать здесь.                                                                                                                                                                                                                                                                                                                                                                                                                                                                                                                                                                                                                                                                                                                                                                                                                                                                                                                                                                                                                                                                                                                                                                                                                                                                                                                                                                                                                                                                                                                                                                                                                                                                                                                                                                                                                                                                                                                                                                                                                                                                                                                                                                                                                                                                                                                                                           1\n",
      "Акционеры Global Gaming Factory X (GGF) одобрили сделку по покупке The Pirate Bay. Об этом сообщил исполнительный директор GGF Ханс Пандейя (Hans Pandeya), который контролирует более половины акций компании. Его слова передает CNET News. GGF заявила о планах купить The Pirate Bay в июне 2009 года. Сумма сделки составляет 60 миллионов шведских крон (около 8,5 миллиона долларов). По словам Пандейи, первоначальные инвесторы, собиравшиеся финансировать сделку, отказались от участия в проекте вследствие повышенного интереса прессы. Но он заявляет, что нашел новых инвесторов, имена которых глава GGF не захотел назвать. Пандейя также утверждает, что уже получил предложения о выкупе The Pirate Bay после завершения сделки. Одно такое предложение якобы сделал некий русский инвестор. Второе поступило от основателя Napster Джона Фэннинга (John Fanning), который готов заплатить за торрент-трекер 10 миллионов долларов. Сам Фэннинг это отрицает. Cделка по покупке The Pirate Bay будет завершена в течение восьми дней после возобновления торгов акциями GGF, заявил Пандейа. Он готов профинансировать эту сделку, продав часть своих активов. Об этом сообщает Wired. Торги бумагами GGF были приостановлены 21 августа 2009 года. Биржа AktieTorget временно исключила из листинга акции компании по подозрению в инсайдерских спекуляциях. Перед объявлением о покупке The Pirate Bay котировки бумаг GGF резко выросли. По этому факту начато уголовное расследование. Для возобновления торгов GGF должна доказать, что у нее есть средства для покупки The Pirate Bay. Возвращение акций компании в листинг биржи может занять несколько недель, заявил дисциплинарный комитет биржи. The Pirate Bay - крупнейший в мире торрент-трекер. 17 апреля 2009 года суд приговорил четверых основателей портала к году тюрьмы и крупным денежным штрафам за нарушение авторских прав нескольких крупных звукозаписывающих компаний и киностудий. Компания Global Gaming Factory X занимается разработкой программного обеспечения и продает рекламу в сетях интернет-кафе. Ее доходы в 2008 году составили около 800 тысяч долларов. Ранее GGF объявила, что планирует превратить The Pirate Bay в платный сайт и перечислять правообладателям гонорары за загрузку пользователями музыки и фильмов.                                                                                                                                                                                                                                                                                                                                                                                                                                                                                                                                                                                                                                                                                                                                                                                                                                                                                                                                                                                                                                                                                                                                                                                                                                                                                                                                                                                                                                                                                                                                                                                                                                                                                                                                                                                                                                                                                                                                                                                                                                                                                                                                                                                                                                                                      1\n",
      "Richard Non, Jimmy Carter, and Bob Dole and other companies have all agreed to abolish the Electoral College and I to agree Xor many reasons. One ox the major issue is that the voters don't know what really happens to their vote. Another issue to add is that ''the electoral collage is unfair, outdated, and irrational\".\\n\\nDo the citizens that go and vote Xor their candidate actually choose Xor the candidate's electors? In the text is states that not only do I vote Xor candidate's electors but also '' help choose the state's electors when you vote Xor the president''. This meaning that my vote counts Xor several things, but was I aware? Maybe not because I simply think I'm voting Xor a candidate running Xor president not the candidate's elector. The Electoral College was meet Xor a compromise between Congress and Citizens not all these extra people.\\n\\n''This year voters can expect another close election in which the popular vote winner could lose again''. Certainly this doesn't make since because how could the winner ox the votes loose? Which is one ox the reasons why the Electoral College is unfair. Also in the beginning ox the article it's said that '' A majority ox 270 electoral votes is required to elect the President''. Meaning that the president already has an advance in the votes. I think that the Electoral College process should be gone Xor its unreality and be replaced to a new way ox election.\\n\\nIn the new way ox electing our president should be in a New steps and also not worrying about the candidate already having an advanced amount ox votes. Instead, ox the votes going place to place they should just be in the state and counted Xor equal no adjustments, then after the election send to Congress or the National Archives as part ox the optical records ox the presidential election.\\n\\nIn conclusion the electoral College should be taken out permanently and be replaced by a new way or process when it comes to the citizens votes and the election ox the candidates.                                                                                                                                                                                                                                                                                                                                                                                                                                                                                                                                                                                                                                                                                                                                                                                                                                                                                                                                                                                                                                                                                                                                                                                                                                                                                                                                                                                                                                                                                                                                                                                                                                                                                                                                                                                                                                                                                                                                                                                                                                                                                                                                                                                                                                                                                                                                                                                                                                                                                                                       1\n",
      "Name: text, Length: 887218, dtype: int64\n"
     ]
    }
   ],
   "source": [
    "print(df.info())\n",
    "\n",
    "print(df.describe())\n",
    "\n",
    "print(df['text'].value_counts())"
   ]
  },
  {
   "cell_type": "code",
   "execution_count": 43,
   "id": "c597bc79-cf08-4063-b51e-8be4779145e2",
   "metadata": {
    "execution": {
     "iopub.execute_input": "2024-06-22T17:42:13.434087Z",
     "iopub.status.busy": "2024-06-22T17:42:13.433428Z",
     "iopub.status.idle": "2024-06-22T17:42:13.633679Z",
     "shell.execute_reply": "2024-06-22T17:42:13.632959Z",
     "shell.execute_reply.started": "2024-06-22T17:42:13.434056Z"
    },
    "tags": []
   },
   "outputs": [
    {
     "name": "stdout",
     "output_type": "stream",
     "text": [
      "text         0\n",
      "generated    0\n",
      "dtype: int64\n"
     ]
    }
   ],
   "source": [
    "print(df.isnull().sum())"
   ]
  },
  {
   "cell_type": "code",
   "execution_count": 46,
   "id": "913c0170-bb4d-423c-bff8-9bac2c7cc0e9",
   "metadata": {
    "execution": {
     "iopub.execute_input": "2024-06-22T17:44:19.333627Z",
     "iopub.status.busy": "2024-06-22T17:44:19.332721Z",
     "iopub.status.idle": "2024-06-22T17:44:23.211930Z",
     "shell.execute_reply": "2024-06-22T17:44:23.211208Z",
     "shell.execute_reply.started": "2024-06-22T17:44:19.333593Z"
    },
    "tags": []
   },
   "outputs": [
    {
     "name": "stdout",
     "output_type": "stream",
     "text": [
      "Number of duplicate rows: 0\n"
     ]
    }
   ],
   "source": [
    "duplicate_rows = df.duplicated().sum()\n",
    "print(f\"Number of duplicate rows: {duplicate_rows}\")"
   ]
  },
  {
   "cell_type": "code",
   "execution_count": 48,
   "id": "3b672327-9f12-4c0b-b33b-0f517731ae57",
   "metadata": {
    "execution": {
     "iopub.execute_input": "2024-06-22T17:45:05.331069Z",
     "iopub.status.busy": "2024-06-22T17:45:05.330027Z",
     "iopub.status.idle": "2024-06-22T17:45:05.665737Z",
     "shell.execute_reply": "2024-06-22T17:45:05.665007Z",
     "shell.execute_reply.started": "2024-06-22T17:45:05.331026Z"
    }
   },
   "outputs": [
    {
     "name": "stdout",
     "output_type": "stream",
     "text": [
      "count    887219.000000\n",
      "mean       1811.777260\n",
      "std         981.042633\n",
      "min           1.000000\n",
      "25%        1121.000000\n",
      "50%        1615.000000\n",
      "75%        2281.000000\n",
      "max       55387.000000\n",
      "Name: text_length, dtype: float64\n"
     ]
    }
   ],
   "source": [
    "df['text_length'] = df['text'].apply(len)\n",
    "\n",
    "print(df['text_length'].describe())"
   ]
  },
  {
   "cell_type": "code",
   "execution_count": 49,
   "id": "49887bd2-febf-4702-bf51-cf432973c98f",
   "metadata": {
    "execution": {
     "iopub.execute_input": "2024-06-22T17:45:15.199258Z",
     "iopub.status.busy": "2024-06-22T17:45:15.198443Z",
     "iopub.status.idle": "2024-06-22T17:45:15.232779Z",
     "shell.execute_reply": "2024-06-22T17:45:15.232165Z",
     "shell.execute_reply.started": "2024-06-22T17:45:15.199226Z"
    }
   },
   "outputs": [
    {
     "data": {
      "text/html": [
       "<div>\n",
       "<style scoped>\n",
       "    .dataframe tbody tr th:only-of-type {\n",
       "        vertical-align: middle;\n",
       "    }\n",
       "\n",
       "    .dataframe tbody tr th {\n",
       "        vertical-align: top;\n",
       "    }\n",
       "\n",
       "    .dataframe thead th {\n",
       "        text-align: right;\n",
       "    }\n",
       "</style>\n",
       "<table border=\"1\" class=\"dataframe\">\n",
       "  <thead>\n",
       "    <tr style=\"text-align: right;\">\n",
       "      <th></th>\n",
       "      <th>text</th>\n",
       "      <th>generated</th>\n",
       "      <th>text_length</th>\n",
       "    </tr>\n",
       "  </thead>\n",
       "  <tbody>\n",
       "    <tr>\n",
       "      <th>0</th>\n",
       "      <td>Бои у Сопоцкина и Друскеник закончились отступ...</td>\n",
       "      <td>0.0</td>\n",
       "      <td>901</td>\n",
       "    </tr>\n",
       "    <tr>\n",
       "      <th>1</th>\n",
       "      <td>Министерство народного просвещения, в виду про...</td>\n",
       "      <td>0.0</td>\n",
       "      <td>346</td>\n",
       "    </tr>\n",
       "    <tr>\n",
       "      <th>2</th>\n",
       "      <td>Штабс-капитан П. Н. Нестеров на днях, увидев в...</td>\n",
       "      <td>0.0</td>\n",
       "      <td>1923</td>\n",
       "    </tr>\n",
       "    <tr>\n",
       "      <th>3</th>\n",
       "      <td>Фотограф-корреспондент Daily Mirror рассказыва...</td>\n",
       "      <td>0.0</td>\n",
       "      <td>703</td>\n",
       "    </tr>\n",
       "    <tr>\n",
       "      <th>4</th>\n",
       "      <td>Лица, приехавшие в Варшаву из Люблина, передаю...</td>\n",
       "      <td>0.0</td>\n",
       "      <td>754</td>\n",
       "    </tr>\n",
       "  </tbody>\n",
       "</table>\n",
       "</div>"
      ],
      "text/plain": [
       "                                                text  generated  text_length\n",
       "0  Бои у Сопоцкина и Друскеник закончились отступ...        0.0          901\n",
       "1  Министерство народного просвещения, в виду про...        0.0          346\n",
       "2  Штабс-капитан П. Н. Нестеров на днях, увидев в...        0.0         1923\n",
       "3  Фотограф-корреспондент Daily Mirror рассказыва...        0.0          703\n",
       "4  Лица, приехавшие в Варшаву из Люблина, передаю...        0.0          754"
      ]
     },
     "execution_count": 49,
     "metadata": {},
     "output_type": "execute_result"
    }
   ],
   "source": [
    "df.head()"
   ]
  },
  {
   "cell_type": "code",
   "execution_count": 50,
   "id": "ee1f06aa-1803-4831-9c6e-609c37cc0213",
   "metadata": {
    "execution": {
     "iopub.execute_input": "2024-06-22T17:46:24.603501Z",
     "iopub.status.busy": "2024-06-22T17:46:24.602306Z",
     "iopub.status.idle": "2024-06-22T17:46:24.699502Z",
     "shell.execute_reply": "2024-06-22T17:46:24.698727Z",
     "shell.execute_reply.started": "2024-06-22T17:46:24.603467Z"
    }
   },
   "outputs": [],
   "source": [
    "q1 = df['text_length'].quantile(0.25)\n",
    "q3 = df['text_length'].quantile(0.75)\n",
    "iqr = q3 - q1\n",
    "lower_bound = q1 - (1.5 * iqr)\n",
    "upper_bound = q3 + (1.5 * iqr)\n",
    "outliers = df[(df['text_length'] < lower_bound) | (df['text_length'] > upper_bound)]\n",
    "\n",
    "df_no_outliers = df[(df['text_length'] > lower_bound) & (df['text_length'] < upper_bound)]"
   ]
  },
  {
   "cell_type": "code",
   "execution_count": 53,
   "id": "34881808-89d3-4b2d-91f2-70a129e5f4a1",
   "metadata": {
    "execution": {
     "iopub.execute_input": "2024-06-22T17:51:13.448277Z",
     "iopub.status.busy": "2024-06-22T17:51:13.447020Z",
     "iopub.status.idle": "2024-06-22T17:51:13.724640Z",
     "shell.execute_reply": "2024-06-22T17:51:13.723896Z",
     "shell.execute_reply.started": "2024-06-22T17:51:13.448242Z"
    },
    "tags": []
   },
   "outputs": [],
   "source": [
    "# Separate the dataset into human and AI-generated texts\n",
    "df_human = df_no_outliers[df_no_outliers['generated'] == 0]\n",
    "df_ai = df_no_outliers[df_no_outliers['generated'] == 1]\n",
    "\n",
    "# Undersample the human-generated texts\n",
    "df_human_undersampled = resample(df_human, \n",
    "                                 replace=False,    # sample without replacement\n",
    "                                 n_samples=len(df_ai),     # to match minority class\n",
    "                                 random_state=123) # reproducible results\n",
    "\n",
    "# Combine the undersampled human-generated texts with AI-generated texts\n",
    "df_balanced = pd.concat([df_human_undersampled, df_ai])\n",
    "\n",
    "# Shuffle the dataset to mix the order of rows\n",
    "df_balanced = df_balanced.sample(frac=1).reset_index(drop=True)"
   ]
  },
  {
   "cell_type": "code",
   "execution_count": 64,
   "id": "6966fd5a-3247-4aae-98ad-c04a4a50070c",
   "metadata": {
    "execution": {
     "iopub.execute_input": "2024-06-22T18:31:20.433107Z",
     "iopub.status.busy": "2024-06-22T18:31:20.432362Z",
     "iopub.status.idle": "2024-06-22T18:31:20.479608Z",
     "shell.execute_reply": "2024-06-22T18:31:20.478934Z",
     "shell.execute_reply.started": "2024-06-22T18:31:20.433077Z"
    }
   },
   "outputs": [
    {
     "data": {
      "text/html": [
       "<div>\n",
       "<style scoped>\n",
       "    .dataframe tbody tr th:only-of-type {\n",
       "        vertical-align: middle;\n",
       "    }\n",
       "\n",
       "    .dataframe tbody tr th {\n",
       "        vertical-align: top;\n",
       "    }\n",
       "\n",
       "    .dataframe thead th {\n",
       "        text-align: right;\n",
       "    }\n",
       "</style>\n",
       "<table border=\"1\" class=\"dataframe\">\n",
       "  <thead>\n",
       "    <tr style=\"text-align: right;\">\n",
       "      <th></th>\n",
       "      <th>text</th>\n",
       "      <th>generated</th>\n",
       "      <th>text_length</th>\n",
       "      <th>clean_text</th>\n",
       "    </tr>\n",
       "  </thead>\n",
       "  <tbody>\n",
       "    <tr>\n",
       "      <th>0</th>\n",
       "      <td>Residents in Vauban, Germany have done the unt...</td>\n",
       "      <td>0.0</td>\n",
       "      <td>1690</td>\n",
       "      <td>residents vauban germany done unthinkable give...</td>\n",
       "    </tr>\n",
       "    <tr>\n",
       "      <th>1</th>\n",
       "      <td>Индексация пенсий в 2005 году составит в средн...</td>\n",
       "      <td>0.0</td>\n",
       "      <td>263</td>\n",
       "      <td>индексация пенсий году составит среднем рубля ...</td>\n",
       "    </tr>\n",
       "    <tr>\n",
       "      <th>2</th>\n",
       "      <td>Hey, I'm totally stoked to be writing this ess...</td>\n",
       "      <td>1.0</td>\n",
       "      <td>1513</td>\n",
       "      <td>hey im totally stoked writing essay benefits t...</td>\n",
       "    </tr>\n",
       "    <tr>\n",
       "      <th>3</th>\n",
       "      <td>Ливанские военные и полицейские, взятые в плен...</td>\n",
       "      <td>0.0</td>\n",
       "      <td>728</td>\n",
       "      <td>ливанские военные полицейские взятые плен изра...</td>\n",
       "    </tr>\n",
       "    <tr>\n",
       "      <th>4</th>\n",
       "      <td>5 июня в 15:00 в Городском парке культуры и от...</td>\n",
       "      <td>1.0</td>\n",
       "      <td>231</td>\n",
       "      <td>июня городском парке культуры отдыха состоится...</td>\n",
       "    </tr>\n",
       "    <tr>\n",
       "      <th>...</th>\n",
       "      <td>...</td>\n",
       "      <td>...</td>\n",
       "      <td>...</td>\n",
       "      <td>...</td>\n",
       "    </tr>\n",
       "    <tr>\n",
       "      <th>382133</th>\n",
       "      <td>The use ob cell phones in the classroom For ed...</td>\n",
       "      <td>1.0</td>\n",
       "      <td>1566</td>\n",
       "      <td>use ob cell phones classroom educational purpo...</td>\n",
       "    </tr>\n",
       "    <tr>\n",
       "      <th>382134</th>\n",
       "      <td>Title: The Benefits of Reducing Automobile Dep...</td>\n",
       "      <td>1.0</td>\n",
       "      <td>3261</td>\n",
       "      <td>title benefits reducing automobile dependence ...</td>\n",
       "    </tr>\n",
       "    <tr>\n",
       "      <th>382135</th>\n",
       "      <td>Seeking multiple opinions when making AK impor...</td>\n",
       "      <td>1.0</td>\n",
       "      <td>2689</td>\n",
       "      <td>seeking multiple opinions making ak important ...</td>\n",
       "    </tr>\n",
       "    <tr>\n",
       "      <th>382136</th>\n",
       "      <td>Dear Mr Senator, what's the point in voting if...</td>\n",
       "      <td>0.0</td>\n",
       "      <td>2294</td>\n",
       "      <td>dear mr senator whats point voting vote may ev...</td>\n",
       "    </tr>\n",
       "    <tr>\n",
       "      <th>382137</th>\n",
       "      <td>Восьмилетний житель украинского Ивано-Франковс...</td>\n",
       "      <td>0.0</td>\n",
       "      <td>1184</td>\n",
       "      <td>восьмилетний житель украинского иванофранковск...</td>\n",
       "    </tr>\n",
       "  </tbody>\n",
       "</table>\n",
       "<p>382138 rows × 4 columns</p>\n",
       "</div>"
      ],
      "text/plain": [
       "                                                     text  ...                                         clean_text\n",
       "0       Residents in Vauban, Germany have done the unt...  ...  residents vauban germany done unthinkable give...\n",
       "1       Индексация пенсий в 2005 году составит в средн...  ...  индексация пенсий году составит среднем рубля ...\n",
       "2       Hey, I'm totally stoked to be writing this ess...  ...  hey im totally stoked writing essay benefits t...\n",
       "3       Ливанские военные и полицейские, взятые в плен...  ...  ливанские военные полицейские взятые плен изра...\n",
       "4       5 июня в 15:00 в Городском парке культуры и от...  ...  июня городском парке культуры отдыха состоится...\n",
       "...                                                   ...  ...                                                ...\n",
       "382133  The use ob cell phones in the classroom For ed...  ...  use ob cell phones classroom educational purpo...\n",
       "382134  Title: The Benefits of Reducing Automobile Dep...  ...  title benefits reducing automobile dependence ...\n",
       "382135  Seeking multiple opinions when making AK impor...  ...  seeking multiple opinions making ak important ...\n",
       "382136  Dear Mr Senator, what's the point in voting if...  ...  dear mr senator whats point voting vote may ev...\n",
       "382137  Восьмилетний житель украинского Ивано-Франковс...  ...  восьмилетний житель украинского иванофранковск...\n",
       "\n",
       "[382138 rows x 4 columns]"
      ]
     },
     "execution_count": 64,
     "metadata": {},
     "output_type": "execute_result"
    }
   ],
   "source": [
    "df_balanced"
   ]
  },
  {
   "cell_type": "code",
   "execution_count": 54,
   "id": "7a15bb41-933d-4d82-bbe8-1274f8b72ef5",
   "metadata": {
    "execution": {
     "iopub.execute_input": "2024-06-22T17:51:45.072124Z",
     "iopub.status.busy": "2024-06-22T17:51:45.071223Z",
     "iopub.status.idle": "2024-06-22T17:52:14.481914Z",
     "shell.execute_reply": "2024-06-22T17:52:14.480768Z",
     "shell.execute_reply.started": "2024-06-22T17:51:45.072093Z"
    }
   },
   "outputs": [
    {
     "name": "stderr",
     "output_type": "stream",
     "text": [
      "[nltk_data] Downloading package stopwords to\n",
      "[nltk_data]     /home/jupyter/nltk_data...\n",
      "[nltk_data]   Unzipping corpora/stopwords.zip.\n"
     ]
    }
   ],
   "source": [
    "nltk.download('stopwords')\n",
    "stop_words_ru = set(stopwords.words('russian'))\n",
    "\n",
    "stop_words_en = set(stopwords.words('english'))\n",
    "\n",
    "def clean_text(text):\n",
    "    text = text.lower()\n",
    "    text = re.sub(r'[^а-яёa-z\\s]', '', text)\n",
    "    text = ' '.join([word for word in text.split() if word not in stop_words_ru and word not in stop_words_en])\n",
    "    return text\n",
    "\n",
    "df_balanced['clean_text'] = df_balanced['text'].apply(clean_text)"
   ]
  },
  {
   "cell_type": "code",
   "execution_count": 55,
   "id": "c3d7ed5e-f1de-403a-b505-85704fcfb2d0",
   "metadata": {
    "execution": {
     "iopub.execute_input": "2024-06-22T17:52:59.468924Z",
     "iopub.status.busy": "2024-06-22T17:52:59.467874Z",
     "iopub.status.idle": "2024-06-22T17:53:00.324585Z",
     "shell.execute_reply": "2024-06-22T17:53:00.323797Z",
     "shell.execute_reply.started": "2024-06-22T17:52:59.468892Z"
    }
   },
   "outputs": [
    {
     "name": "stdout",
     "output_type": "stream",
     "text": [
      "count     382138\n",
      "unique    373776\n",
      "top             \n",
      "freq         118\n",
      "Name: clean_text, dtype: object\n",
      "                                                text  ...                                         clean_text\n",
      "0  Residents in Vauban, Germany have done the unt...  ...  residents vauban germany done unthinkable give...\n",
      "1  Индексация пенсий в 2005 году составит в средн...  ...  индексация пенсий году составит среднем рубля ...\n",
      "2  Hey, I'm totally stoked to be writing this ess...  ...  hey im totally stoked writing essay benefits t...\n",
      "3  Ливанские военные и полицейские, взятые в плен...  ...  ливанские военные полицейские взятые плен изра...\n",
      "4  5 июня в 15:00 в Городском парке культуры и от...  ...  июня городском парке культуры отдыха состоится...\n",
      "\n",
      "[5 rows x 4 columns]\n",
      "<class 'pandas.core.frame.DataFrame'>\n",
      "RangeIndex: 382138 entries, 0 to 382137\n",
      "Data columns (total 4 columns):\n",
      " #   Column       Non-Null Count   Dtype  \n",
      "---  ------       --------------   -----  \n",
      " 0   text         382138 non-null  object \n",
      " 1   generated    382138 non-null  float64\n",
      " 2   text_length  382138 non-null  int64  \n",
      " 3   clean_text   382138 non-null  object \n",
      "dtypes: float64(1), int64(1), object(2)\n",
      "memory usage: 11.7+ MB\n",
      "None\n",
      "0    residents vauban germany done unthinkable give...\n",
      "1    индексация пенсий году составит среднем рубля ...\n",
      "2    hey im totally stoked writing essay benefits t...\n",
      "3    ливанские военные полицейские взятые плен изра...\n",
      "4    июня городском парке культуры отдыха состоится...\n",
      "Name: clean_text, dtype: object\n"
     ]
    }
   ],
   "source": [
    "\n",
    "print(df_balanced['clean_text'].describe())\n",
    "\n",
    "print(df_balanced.head())\n",
    "\n",
    "print(df_balanced.info())\n",
    "\n",
    "print(df_balanced['clean_text'].head())"
   ]
  },
  {
   "cell_type": "code",
   "execution_count": 56,
   "id": "4d37da4e-d71a-4f1c-a210-3bf59b8bd93c",
   "metadata": {
    "execution": {
     "iopub.execute_input": "2024-06-22T17:53:54.174324Z",
     "iopub.status.busy": "2024-06-22T17:53:54.173426Z",
     "iopub.status.idle": "2024-06-22T17:55:09.171181Z",
     "shell.execute_reply": "2024-06-22T17:55:09.170344Z",
     "shell.execute_reply.started": "2024-06-22T17:53:54.174295Z"
    }
   },
   "outputs": [],
   "source": [
    "X = df_balanced['clean_text']\n",
    "y = df_balanced['generated']\n",
    "X_train, X_test, y_train, y_test = train_test_split(X, y, test_size=0.2, random_state=42)\n",
    "\n",
    "tokenizer = Tokenizer()\n",
    "tokenizer.fit_on_texts(X_train)\n",
    "X_train_seq = tokenizer.texts_to_sequences(X_train)\n",
    "X_test_seq = tokenizer.texts_to_sequences(X_test)\n",
    "\n",
    "X_train_pad = pad_sequences(X_train_seq, maxlen=100)\n",
    "X_test_pad = pad_sequences(X_test_seq, maxlen=100)"
   ]
  },
  {
   "cell_type": "code",
   "execution_count": 59,
   "id": "535f7070-2cfa-41c7-9b24-b7cd5a564c6c",
   "metadata": {
    "execution": {
     "iopub.execute_input": "2024-06-22T18:03:06.554698Z",
     "iopub.status.busy": "2024-06-22T18:03:06.553734Z",
     "iopub.status.idle": "2024-06-22T18:03:14.682907Z",
     "shell.execute_reply": "2024-06-22T18:03:14.671901Z",
     "shell.execute_reply.started": "2024-06-22T18:03:06.554667Z"
    },
    "tags": []
   },
   "outputs": [],
   "source": [
    "def load_glove_embeddings(glove_path, word_index, embedding_dim=100):\n",
    "    embeddings_index = {}\n",
    "    with open(glove_path, 'r', encoding='utf8') as f:\n",
    "        for line in f:\n",
    "            values = line.split()\n",
    "            word = values[0]\n",
    "            coefs = np.asarray(values[1:], dtype='float32')\n",
    "            embeddings_index[word] = coefs\n",
    "\n",
    "    embedding_matrix = np.zeros((len(word_index) + 1, embedding_dim))\n",
    "    for word, i in word_index.items():\n",
    "        embedding_vector = embeddings_index.get(word)\n",
    "        if embedding_vector is not None:\n",
    "            embedding_matrix[i] = embedding_vector\n",
    "            \n",
    "    return embedding_matrix\n",
    "\n",
    "glove_path = 'glove.6B.100d.txt'  \n",
    "embedding_dim = 100\n",
    "embedding_matrix = load_glove_embeddings(glove_path, tokenizer.word_index, embedding_dim)"
   ]
  },
  {
   "cell_type": "code",
   "execution_count": 60,
   "id": "dde0aa75-b618-4250-bead-97fdaa636f1d",
   "metadata": {
    "execution": {
     "iopub.execute_input": "2024-06-22T18:04:01.967013Z",
     "iopub.status.busy": "2024-06-22T18:04:01.946484Z",
     "iopub.status.idle": "2024-06-22T18:04:03.089629Z",
     "shell.execute_reply": "2024-06-22T18:04:03.088931Z",
     "shell.execute_reply.started": "2024-06-22T18:04:01.966971Z"
    }
   },
   "outputs": [
    {
     "name": "stderr",
     "output_type": "stream",
     "text": [
      "2024-06-22 18:04:02.159631: E tensorflow/compiler/xla/stream_executor/cuda/cuda_driver.cc:266] failed call to cuInit: CUDA_ERROR_NO_DEVICE: no CUDA-capable device is detected\n"
     ]
    }
   ],
   "source": [
    "from keras.models import Sequential\n",
    "from keras.layers import Embedding, LSTM, Dense, Dropout\n",
    "\n",
    "def create_model_with_glove(embedding_matrix, input_length=100):\n",
    "    model = Sequential([\n",
    "        Embedding(input_dim=embedding_matrix.shape[0], \n",
    "                  output_dim=embedding_matrix.shape[1], \n",
    "                  weights=[embedding_matrix], \n",
    "                  input_length=input_length, \n",
    "                  trainable=False),\n",
    "        LSTM(units=50, dropout=0.2, recurrent_dropout=0.2),\n",
    "        Dense(1, activation='sigmoid')\n",
    "    ])\n",
    "    \n",
    "    model.compile(optimizer='adam', loss='binary_crossentropy', metrics=['accuracy'])\n",
    "    return model\n",
    "\n",
    "model = create_model_with_glove(embedding_matrix, input_length=100)"
   ]
  },
  {
   "cell_type": "code",
   "execution_count": 61,
   "id": "7c3ca079-f92b-4651-bb0b-e6c3b82fad77",
   "metadata": {
    "execution": {
     "iopub.execute_input": "2024-06-22T18:04:10.871438Z",
     "iopub.status.busy": "2024-06-22T18:04:10.870784Z",
     "iopub.status.idle": "2024-06-22T18:04:10.905613Z",
     "shell.execute_reply": "2024-06-22T18:04:10.904837Z",
     "shell.execute_reply.started": "2024-06-22T18:04:10.871405Z"
    }
   },
   "outputs": [
    {
     "name": "stdout",
     "output_type": "stream",
     "text": [
      "Model: \"sequential\"\n",
      "_________________________________________________________________\n",
      " Layer (type)                Output Shape              Param #   \n",
      "=================================================================\n",
      " embedding (Embedding)       (None, 100, 100)          59271600  \n",
      "                                                                 \n",
      " lstm (LSTM)                 (None, 50)                30200     \n",
      "                                                                 \n",
      " dense (Dense)               (None, 1)                 51        \n",
      "                                                                 \n",
      "=================================================================\n",
      "Total params: 59,301,851\n",
      "Trainable params: 30,251\n",
      "Non-trainable params: 59,271,600\n",
      "_________________________________________________________________\n",
      "None\n"
     ]
    }
   ],
   "source": [
    "print(model.summary())"
   ]
  },
  {
   "cell_type": "code",
   "execution_count": null,
   "id": "e6f66d30-d4f9-4dd3-ba84-7c068b208542",
   "metadata": {
    "execution": {
     "iopub.execute_input": "2024-06-22T18:34:16.779855Z",
     "iopub.status.busy": "2024-06-22T18:34:16.778782Z"
    },
    "tags": []
   },
   "outputs": [
    {
     "name": "stdout",
     "output_type": "stream",
     "text": [
      "Epoch 1/8\n",
      "4300/4300 [==============================] - 294s 68ms/step - loss: 0.1184 - accuracy: 0.9520 - val_loss: 0.1151 - val_accuracy: 0.9525\n",
      "Epoch 2/8\n",
      "4300/4300 [==============================] - 291s 68ms/step - loss: 0.1151 - accuracy: 0.9527 - val_loss: 0.1134 - val_accuracy: 0.9522\n",
      "Epoch 3/8\n",
      "3827/4300 [=========================>....] - ETA: 31s - loss: 0.1117 - accuracy: 0.9533"
     ]
    }
   ],
   "source": [
    "history = model.fit(X_train_pad, y_train, epochs=8, batch_size=64, validation_split=0.1)\n",
    "loss, accuracy = model.evaluate(X_test_pad, y_test)\n",
    "print(f'Test Accuracy: {accuracy}')\n",
    "print(f'Test Loss: {loss}')"
   ]
  },
  {
   "cell_type": "code",
   "execution_count": null,
   "id": "7861d7cd-ee51-4a78-9027-74724fad4187",
   "metadata": {},
   "outputs": [],
   "source": [
    "history_dict = history.history\n",
    "history_dict.keys()"
   ]
  },
  {
   "cell_type": "code",
   "execution_count": null,
   "id": "e9989cd4-a91e-4f06-8af6-d988bdb48745",
   "metadata": {},
   "outputs": [],
   "source": [
    "loss_values = history_dict['loss']\n",
    "val_loss_values = history_dict['val_loss']\n",
    "acc = history_dict['acc']\n",
    "epochs = range(1, len(acc) + 1)\n",
    "plt.plot(epochs, loss_values, 'bo', label='Training loss')\n",
    "plt.plot(epochs, val_loss_values, 'b', label='Validation loss')\n",
    "plt.title('Training and validation loss')\n",
    "plt.xlabel('Epochs')\n",
    "plt.ylabel('Loss')\n",
    "plt.legend()\n",
    "plt.show()"
   ]
  },
  {
   "cell_type": "code",
   "execution_count": null,
   "id": "b5366eaf-b9ab-4912-bacb-5f04f2f578cf",
   "metadata": {},
   "outputs": [],
   "source": [
    "acc = history_dict['acc']\n",
    "val_acc = history_dict['val_acc']\n",
    "plt.plot(epochs, acc, 'bo', label='Training acc')\n",
    "plt.plot(epochs, val_acc, 'b', label='Validation acc')\n",
    "plt.title('Training and validation accuracy')\n",
    "plt.xlabel('Epochs')\n",
    "plt.ylabel('Accuracy')\n",
    "plt.legend()\n",
    "plt.show()"
   ]
  }
 ],
 "metadata": {
  "kernelspec": {
   "display_name": "DataSphere Kernel",
   "language": "python",
   "name": "python3"
  },
  "language_info": {
   "codemirror_mode": {
    "name": "ipython",
    "version": 3
   },
   "file_extension": ".py",
   "mimetype": "text/x-python",
   "name": "python",
   "nbconvert_exporter": "python",
   "pygments_lexer": "ipython3",
   "version": "3.10.12"
  }
 },
 "nbformat": 4,
 "nbformat_minor": 5
}
